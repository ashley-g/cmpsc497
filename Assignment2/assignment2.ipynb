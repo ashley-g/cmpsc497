{
 "metadata": {
  "language_info": {
   "codemirror_mode": {
    "name": "ipython",
    "version": 3
   },
   "file_extension": ".py",
   "mimetype": "text/x-python",
   "name": "python",
   "nbconvert_exporter": "python",
   "pygments_lexer": "ipython3",
   "version": "3.8.3-final"
  },
  "orig_nbformat": 2,
  "kernelspec": {
   "name": "Python 3.8.3 64-bit ('base': conda)",
   "display_name": "Python 3.8.3 64-bit ('base': conda)",
   "metadata": {
    "interpreter": {
     "hash": "c74ec775a3ff2e6cdfb7b76dabb983910d29e501fd6b78b1f7714681b5a8dc11"
    }
   }
  }
 },
 "nbformat": 4,
 "nbformat_minor": 2,
 "cells": [
  {
   "cell_type": "code",
   "execution_count": 458,
   "metadata": {},
   "outputs": [],
   "source": [
    "import sys\n",
    "import pandas as pd\n",
    "import matplotlib.pyplot as plt\n",
    "import numpy as np\n",
    "import sklearn.feature_selection as fs\n",
    "import sklearn.preprocessing as pp\n",
    "from sklearn.model_selection import train_test_split\n",
    "from sklearn.model_selection import cross_val_predict\n",
    "from sklearn.linear_model import LogisticRegression\n",
    "from sklearn.metrics import confusion_matrix\n",
    "from sklearn.metrics import precision_score\n",
    "from sklearn.metrics import recall_score\n",
    "from sklearn.metrics import f1_score\n",
    "from sklearn.metrics import accuracy_score\n",
    "from sklearn.utils import resample\n",
    "from sklearn.tree import DecisionTreeClassifier\n",
    "from sklearn.svm import SVC\n",
    "from sklearn.neural_network import MLPClassifier\n",
    "from sklearn.metrics import precision_recall_fscore_support\n",
    "\n",
    "#load csv file\n",
    "data = pd.read_csv('credit_cards.csv')"
   ]
  },
  {
   "cell_type": "code",
   "execution_count": 459,
   "metadata": {},
   "outputs": [],
   "source": [
    "#Data Set and new features\n",
    "\n",
    "#the following is from my assignment 1\n",
    "#Preprocessing Task #3: generate a new feature\n",
    "#new feature: avg_net = avg(bill_amt(1-6)) - avg(pay_amt(1-6))\n",
    "avg_bill = data['BILL_AMT1'] + data['BILL_AMT2'] + data['BILL_AMT3'] + data['BILL_AMT4'] + data['BILL_AMT5'] + data['BILL_AMT6']\n",
    "avg_bill = avg_bill / 6\n",
    "avg_payamt = data['PAY_AMT1'] + data['PAY_AMT2'] + data['PAY_AMT3'] + data['PAY_AMT4'] + data['PAY_AMT5'] + data['PAY_AMT6']\n",
    "avg_payamt = avg_payamt / 6\n",
    "data['AVG_NET'] = avg_bill - avg_payamt"
   ]
  },
  {
   "cell_type": "code",
   "execution_count": 460,
   "metadata": {},
   "outputs": [],
   "source": [
    "#move DEFAULT to last column\n",
    "cols = data.columns.tolist()\n",
    "cols = cols[:-2] + cols[-1:] + cols[-2:-1]\n",
    "data = data[cols]"
   ]
  },
  {
   "cell_type": "code",
   "execution_count": 461,
   "metadata": {},
   "outputs": [
    {
     "output_type": "execute_result",
     "data": {
      "text/plain": [
       "      ID  LIMIT_BAL  SEX  EDUCATION  MARRIAGE  AGE  PAY_1  PAY_2  PAY_3  \\\n",
       "0  17270     130000    2          2         1   34      0      0      0   \n",
       "1  22364     290000    2          1         2   27     -1     -1      0   \n",
       "2  23880     360000    1          1         2   27     -2     -2     -2   \n",
       "3   9074     110000    2          1         2   35     -1      2     -1   \n",
       "4  25083     260000    1          3         1   48      0      0      0   \n",
       "\n",
       "   PAY_4  ...  BILL_AMT5  BILL_AMT6  PAY_AMT1  PAY_AMT2  PAY_AMT3  PAY_AMT4  \\\n",
       "0      0  ...     107725     109994      3700      5300      4000      4000   \n",
       "1      0  ...        834        931       569      1000      1000       200   \n",
       "2     -2  ...         -5         -5       898      5970      1396         0   \n",
       "3      0  ...        806       1729         0      1166         0       446   \n",
       "4      0  ...     141570     134143      8000      6000      7100      5300   \n",
       "\n",
       "   PAY_AMT5  PAY_AMT6        AVG_NET  DEFAULT  \n",
       "0      4000      6100  100287.500000        0  \n",
       "1       265       500     312.000000        0  \n",
       "2         0         0     459.333333        0  \n",
       "3      1729         0     313.000000        0  \n",
       "4      5000      5000  144800.166667        0  \n",
       "\n",
       "[5 rows x 26 columns]"
      ],
      "text/html": "<div>\n<style scoped>\n    .dataframe tbody tr th:only-of-type {\n        vertical-align: middle;\n    }\n\n    .dataframe tbody tr th {\n        vertical-align: top;\n    }\n\n    .dataframe thead th {\n        text-align: right;\n    }\n</style>\n<table border=\"1\" class=\"dataframe\">\n  <thead>\n    <tr style=\"text-align: right;\">\n      <th></th>\n      <th>ID</th>\n      <th>LIMIT_BAL</th>\n      <th>SEX</th>\n      <th>EDUCATION</th>\n      <th>MARRIAGE</th>\n      <th>AGE</th>\n      <th>PAY_1</th>\n      <th>PAY_2</th>\n      <th>PAY_3</th>\n      <th>PAY_4</th>\n      <th>...</th>\n      <th>BILL_AMT5</th>\n      <th>BILL_AMT6</th>\n      <th>PAY_AMT1</th>\n      <th>PAY_AMT2</th>\n      <th>PAY_AMT3</th>\n      <th>PAY_AMT4</th>\n      <th>PAY_AMT5</th>\n      <th>PAY_AMT6</th>\n      <th>AVG_NET</th>\n      <th>DEFAULT</th>\n    </tr>\n  </thead>\n  <tbody>\n    <tr>\n      <th>0</th>\n      <td>17270</td>\n      <td>130000</td>\n      <td>2</td>\n      <td>2</td>\n      <td>1</td>\n      <td>34</td>\n      <td>0</td>\n      <td>0</td>\n      <td>0</td>\n      <td>0</td>\n      <td>...</td>\n      <td>107725</td>\n      <td>109994</td>\n      <td>3700</td>\n      <td>5300</td>\n      <td>4000</td>\n      <td>4000</td>\n      <td>4000</td>\n      <td>6100</td>\n      <td>100287.500000</td>\n      <td>0</td>\n    </tr>\n    <tr>\n      <th>1</th>\n      <td>22364</td>\n      <td>290000</td>\n      <td>2</td>\n      <td>1</td>\n      <td>2</td>\n      <td>27</td>\n      <td>-1</td>\n      <td>-1</td>\n      <td>0</td>\n      <td>0</td>\n      <td>...</td>\n      <td>834</td>\n      <td>931</td>\n      <td>569</td>\n      <td>1000</td>\n      <td>1000</td>\n      <td>200</td>\n      <td>265</td>\n      <td>500</td>\n      <td>312.000000</td>\n      <td>0</td>\n    </tr>\n    <tr>\n      <th>2</th>\n      <td>23880</td>\n      <td>360000</td>\n      <td>1</td>\n      <td>1</td>\n      <td>2</td>\n      <td>27</td>\n      <td>-2</td>\n      <td>-2</td>\n      <td>-2</td>\n      <td>-2</td>\n      <td>...</td>\n      <td>-5</td>\n      <td>-5</td>\n      <td>898</td>\n      <td>5970</td>\n      <td>1396</td>\n      <td>0</td>\n      <td>0</td>\n      <td>0</td>\n      <td>459.333333</td>\n      <td>0</td>\n    </tr>\n    <tr>\n      <th>3</th>\n      <td>9074</td>\n      <td>110000</td>\n      <td>2</td>\n      <td>1</td>\n      <td>2</td>\n      <td>35</td>\n      <td>-1</td>\n      <td>2</td>\n      <td>-1</td>\n      <td>0</td>\n      <td>...</td>\n      <td>806</td>\n      <td>1729</td>\n      <td>0</td>\n      <td>1166</td>\n      <td>0</td>\n      <td>446</td>\n      <td>1729</td>\n      <td>0</td>\n      <td>313.000000</td>\n      <td>0</td>\n    </tr>\n    <tr>\n      <th>4</th>\n      <td>25083</td>\n      <td>260000</td>\n      <td>1</td>\n      <td>3</td>\n      <td>1</td>\n      <td>48</td>\n      <td>0</td>\n      <td>0</td>\n      <td>0</td>\n      <td>0</td>\n      <td>...</td>\n      <td>141570</td>\n      <td>134143</td>\n      <td>8000</td>\n      <td>6000</td>\n      <td>7100</td>\n      <td>5300</td>\n      <td>5000</td>\n      <td>5000</td>\n      <td>144800.166667</td>\n      <td>0</td>\n    </tr>\n  </tbody>\n</table>\n<p>5 rows × 26 columns</p>\n</div>"
     },
     "metadata": {},
     "execution_count": 461
    }
   ],
   "source": [
    "#check to see that column 1 is client ID, 2-24 are original features, 25 is my added feature, and 26 is DEFAULT\n",
    "data.head()"
   ]
  },
  {
   "cell_type": "code",
   "execution_count": 462,
   "metadata": {},
   "outputs": [],
   "source": [
    "#Task 1 - preprocessing: normalizing numerical features and one hot encoding categorical features\n",
    "\n",
    "#The following is from my assignment 1\n",
    "#Task #4: normalize values of numerical features to the range (0,1)\n",
    "numers = ['ID', 'LIMIT_BAL', 'AGE', 'BILL_AMT1', 'BILL_AMT2', 'BILL_AMT3', 'BILL_AMT4', 'BILL_AMT5', 'BILL_AMT6', 'PAY_AMT1', 'PAY_AMT2', 'PAY_AMT3', 'PAY_AMT4', 'PAY_AMT5', 'PAY_AMT6', 'AVG_NET']\n",
    "numericals = pd.DataFrame(data, columns=numers)\n",
    "scaler = pp.MinMaxScaler()\n",
    "norm = scaler.fit_transform(numericals)\n",
    "normalized = pd.DataFrame(norm, columns=numers)\n",
    "\n",
    "#Task #5: Encode Categorical Features\n",
    "categoricals = ['SEX', 'EDUCATION', 'MARRIAGE', 'PAY_1', 'PAY_2', 'PAY_3', 'PAY_4', 'PAY_5', 'PAY_6']\n",
    "cats = pd.DataFrame(data, columns=categoricals)\n",
    "encoder = pp.OneHotEncoder()\n",
    "encoder.fit(cats)\n",
    "feat_name = encoder.get_feature_names(categoricals)\n",
    "encoded = pd.DataFrame(encoder.transform(cats).toarray())\n",
    "encoded.columns = feat_name\n",
    "encoded = encoded.rename(columns={'SEX_1': 'SEX_IS_MALE', 'SEX_2': 'SEX_IS_FEMALE', 'EDUCATION_0': 'EDUCATION_IS_NONE', 'EDUCATION_1': 'EDUCATION_IS_GRADUATE_SCHOOL', 'EDUCATION_2': 'EDUCATION_IS_UNIVERSITY', 'EDUCATION_3': 'EDUCATION_IS_HIGHSCHOOL', 'EDUCATION_4': 'EDUCATION_IS_OTHER', 'EDUCATION_5': 'EDUCATION_IS_UNKNOWN5', 'EDUCATION_6': 'EDUCATION_IS_UNKNOWN6', 'MARRIAGE_0': 'MARRIAGE_IS_UNKNWON', 'MARRIAGE_1': 'MARRIAGE_IS_MARRIED', 'MARRIAGE_2': 'MARRIAGE_IS_SINGLE', 'MARRIAGE_3': 'MARRIAGE_IS_OTHER', 'PAY_1_-2': 'PAY1_IS_NOTHING_DUE', 'PAY_1_-1': 'PAY1_IS_PAID_DULY', 'PAY_1_0': 'PAY1_IS_MIN_PAYMENT', 'PAY_1_1': 'PAY1_IS_LATE1', 'PAY_1_2': 'PAY1_IS_LATE2', 'PAY_1_3': 'PAY1_IS_LATE3', 'PAY_1_4': 'PAY1_IS_LATE4', 'PAY_1_5': 'PAY1_IS_LATE5', 'PAY_1_6': 'PAY1_IS_LATE6', 'PAY_1_7': 'PAY1_IS_LATE7', 'PAY_1_8': 'PAY1_IS_LATE8', 'PAY_2_-2': 'PAY2_IS_NOTHING_DUE', 'PAY_2_-1': 'PAY2_IS_PAID_DULY', 'PAY_2_0': 'PAY2_IS_MIN_PAYMENT', 'PAY_2_1': 'PAY2_IS_LATE1', 'PAY_2_2': 'PAY2_IS_LATE2', 'PAY_2_3': 'PAY2_IS_LATE3', 'PAY_2_4': 'PAY2_IS_LATE4', 'PAY_2_5': 'PAY2_IS_LATE5', 'PAY_2_6': 'PAY2_IS_LATE6', 'PAY_2_7': 'PAY2_IS_LATE7', 'PAY_2_8': 'PAY2_IS_LATE8', 'PAY_3_-2': 'PAY3_IS_NOTHING_DUE', 'PAY_3_-1': 'PAY3_IS_PAID_DULY', 'PAY_3_0': 'PAY3_IS_MIN_PAYMENT', 'PAY_3_1': 'PAY3_IS_LATE1', 'PAY_3_2': 'PAY3_IS_LATE2', 'PAY_3_3': 'PAY3_IS_LATE3', 'PAY_3_4': 'PAY3_IS_LATE4', 'PAY_3_5': 'PAY3_IS_LATE5', 'PAY_3_6': 'PAY3_IS_LATE6', 'PAY_3_7': 'PAY3_IS_LATE7', 'PAY_3_8': 'PAY3_IS_LATE8', 'PAY_4_-2': 'PAY4_IS_NOTHING_DUE', 'PAY_4_-1': 'PAY4_IS_PAID_DULY', 'PAY_4_0': 'PAY4_IS_MIN_PAYMENT', 'PAY_4_1': 'PAY4_IS_LATE1', 'PAY_4_2': 'PAY4_IS_LATE2', 'PAY_4_3': 'PAY4_IS_LATE3', 'PAY_4_4': 'PAY4_IS_LATE4', 'PAY_4_5': 'PAY4_IS_LATE5', 'PAY_4_6': 'PAY4_IS_LATE6', 'PAY_4_7': 'PAY4_IS_LATE7', 'PAY_4_8': 'PAY4_IS_LATE8', 'PAY_5_-2': 'PAY5_IS_NOTHING_DUE', 'PAY_5_-1': 'PAY5_IS_PAID_DULY', 'PAY_5_0': 'PAY5_IS_MIN_PAYMENT', 'PAY_5_1': 'PAY5_IS_LATE1', 'PAY_5_2': 'PAY5_IS_LATE2', 'PAY_5_3': 'PAY5_IS_LATE3', 'PAY_5_4': 'PAY5_IS_LATE4', 'PAY_5_5': 'PAY5_IS_LATE5', 'PAY_5_6': 'PAY5_IS_LATE6', 'PAY_5_7': 'PAY5_IS_LATE7', 'PAY_5_8': 'PAY5_IS_LATE8', 'PAY_6_-2': 'PAY6_IS_NOTHING_DUE', 'PAY_6_-1': 'PAY6_IS_PAID_DULY', 'PAY_6_0': 'PAY6_IS_MIN_PAYMENT', 'PAY_6_1': 'PAY6_IS_LATE1', 'PAY_6_2': 'PAY6_IS_LATE2', 'PAY_6_3': 'PAY6_IS_LATE3', 'PAY_6_4': 'PAY6_IS_LATE4', 'PAY_6_5': 'PAY6_IS_LATE5', 'PAY_6_6': 'PAY6_IS_LATE6', 'PAY_6_7': 'PAY6_IS_LATE7', 'PAY_6_8': 'PAY6_IS_LATE8'})"
   ]
  },
  {
   "cell_type": "code",
   "execution_count": 463,
   "metadata": {},
   "outputs": [
    {
     "output_type": "stream",
     "name": "stdout",
     "text": [
      "Logistic Regression Model 1 Metrics:\nConfusion Matrix:\n [[17736   897]\n [ 3449  1918]]\nPrecision Metric: 0.83720\nRecall Metric: 0.95186\nF-Measure Metric: 0.89085\nAccuracy Metric: 0.81892\n"
     ]
    }
   ],
   "source": [
    "#Task 1 - Logistic Regression Model 1\n",
    "X1 = pd.concat([encoded, normalized], axis=1, sort=False)\n",
    "LR1 = LogisticRegression()\n",
    "predict_lr1 = cross_val_predict(LR1, X1, data['DEFAULT'], cv=5)\n",
    "\n",
    "print(\"Logistic Regression Model 1 Metrics:\")\n",
    "#Confusion Matrix\n",
    "print(\"Confusion Matrix:\\n {0}\".format(confusion_matrix(data['DEFAULT'], predict_lr1)))\n",
    "\n",
    "#Precision Metric\n",
    "print(\"Precision Metric: {:.5f}\".format(precision_score(data['DEFAULT'], predict_lr1, average=None)[0]))\n",
    "\n",
    "#Recall Metric\n",
    "print(\"Recall Metric: {:.5f}\".format(recall_score(data['DEFAULT'], predict_lr1, average=None)[0]))\n",
    "\n",
    "#F-Measure Metric\n",
    "print(\"F-Measure Metric: {:.5f}\".format(f1_score(data['DEFAULT'], predict_lr1, average=None)[0]))\n",
    "\n",
    "#Accuracy Metric\n",
    "print(\"Accuracy Metric: {:.5f}\".format(accuracy_score(data['DEFAULT'], predict_lr1)))"
   ]
  },
  {
   "cell_type": "code",
   "execution_count": 464,
   "metadata": {},
   "outputs": [
    {
     "output_type": "stream",
     "name": "stdout",
     "text": [
      "Logistic Regression Model 2 Metrics:\nConfusion Matrix:\n [[18630     3]\n [ 5367     0]]\nPrecision Metric: 0.77635\nRecall Metric: 0.99984\nF-Measure Metric: 0.87403\nAccuracy Metric: 0.77625\n"
     ]
    }
   ],
   "source": [
    "#Task 1 - Logistic Regression Model 2\n",
    "X2 = pd.concat([encoded, numericals], axis=1, sort=False)\n",
    "LR2 = LogisticRegression()\n",
    "predict_lr2 = cross_val_predict(LR2, X2, data['DEFAULT'], cv=5)\n",
    "\n",
    "print(\"Logistic Regression Model 2 Metrics:\")\n",
    "#Confusion Matrix\n",
    "print(\"Confusion Matrix:\\n {0}\".format(confusion_matrix(data['DEFAULT'], predict_lr2)))\n",
    "\n",
    "#Precision Metric\n",
    "print(\"Precision Metric: {:.5f}\".format(precision_score(data['DEFAULT'], predict_lr2, average=None)[0]))\n",
    "\n",
    "#Recall Metric\n",
    "print(\"Recall Metric: {:.5f}\".format(recall_score(data['DEFAULT'], predict_lr2, average=None)[0]))\n",
    "\n",
    "#F-Measure Metric\n",
    "print(\"F-Measure Metric: {:.5f}\".format(f1_score(data['DEFAULT'], predict_lr2, average=None)[0]))\n",
    "\n",
    "#Accuracy Metric\n",
    "print(\"Accuracy Metric: {:.5f}\".format(accuracy_score(data['DEFAULT'], predict_lr2)))"
   ]
  },
  {
   "cell_type": "code",
   "execution_count": 465,
   "metadata": {},
   "outputs": [
    {
     "output_type": "stream",
     "name": "stdout",
     "text": [
      "Logistic Regression Model 1 Metrics with Undersampling:\nConfusion Matrix:\n [[4468  899]\n [2248 3119]]\nPrecision Metric: 0.66528\nRecall Metric: 0.83249\nF-Measure Metric: 0.73955\nAccuracy Metric: 0.70682\n"
     ]
    }
   ],
   "source": [
    "#Task 2 - Logistic Regression Model 1\n",
    "\n",
    "X1 = pd.concat([encoded, normalized, data['DEFAULT']], axis=1, sort=False)\n",
    "\n",
    "#split the data by class\n",
    "zero_class = X1[X1['DEFAULT'] == 0]\n",
    "one_class = X1[X1['DEFAULT'] == 1]\n",
    "\n",
    "#undersample majority class - 0\n",
    "zero_class_usamp = resample(zero_class, n_samples=len(one_class), random_state=789)\n",
    "\n",
    "#put undersampled zero class with original one class\n",
    "new_sample = pd.concat([one_class, zero_class_usamp])\n",
    "\n",
    "#use logistic regression on the new sample\n",
    "LR1 = LogisticRegression()\n",
    "predict_lr1 = cross_val_predict(LR1, new_sample.drop('DEFAULT', axis=1), new_sample['DEFAULT'], cv=5)\n",
    "\n",
    "print(\"Logistic Regression Model 1 Metrics with Undersampling:\")\n",
    "#Confusion Matrix\n",
    "print(\"Confusion Matrix:\\n {0}\".format(confusion_matrix(new_sample['DEFAULT'], predict_lr1)))\n",
    "\n",
    "#Precision Metric\n",
    "print(\"Precision Metric: {:.5f}\".format(precision_score(new_sample['DEFAULT'], predict_lr1, average=None)[0]))\n",
    "\n",
    "#Recall Metric\n",
    "print(\"Recall Metric: {:.5f}\".format(recall_score(new_sample['DEFAULT'], predict_lr1, average=None)[0]))\n",
    "\n",
    "#F-Measure Metric\n",
    "print(\"F-Measure Metric: {:.5f}\".format(f1_score(new_sample['DEFAULT'], predict_lr1, average=None)[0]))\n",
    "\n",
    "#Accuracy Metric\n",
    "print(\"Accuracy Metric: {:.5f}\".format(accuracy_score(new_sample['DEFAULT'], predict_lr1)))"
   ]
  },
  {
   "cell_type": "code",
   "execution_count": 466,
   "metadata": {},
   "outputs": [
    {
     "output_type": "stream",
     "name": "stdout",
     "text": [
      "Logistic Regression Model 2 Metrics with Undersampling:\nConfusion Matrix:\n [[3107 2260]\n [1949 3418]]\nPrecision Metric: 0.61452\nRecall Metric: 0.57891\nF-Measure Metric: 0.59618\nAccuracy Metric: 0.60788\n"
     ]
    }
   ],
   "source": [
    "#Task 2 - Logistic Regression Model 2\n",
    "\n",
    "X2 = pd.concat([encoded, numericals, data['DEFAULT']], axis=1, sort=False)\n",
    "\n",
    "#split the data by class\n",
    "zero_class = X2[X2['DEFAULT'] == 0]\n",
    "one_class = X2[X2['DEFAULT'] == 1]\n",
    "\n",
    "#undersample majority class - 0\n",
    "zero_class_usamp = resample(zero_class, n_samples=len(one_class), random_state=789)\n",
    "\n",
    "#put undersampled zero class with original one class\n",
    "new_sample = pd.concat([one_class, zero_class_usamp])\n",
    "\n",
    "LR2 = LogisticRegression()\n",
    "predict_lr2 = cross_val_predict(LR2, new_sample.drop('DEFAULT', axis=1), new_sample['DEFAULT'], cv=5)\n",
    "\n",
    "print(\"Logistic Regression Model 2 Metrics with Undersampling:\")\n",
    "#Confusion Matrix\n",
    "print(\"Confusion Matrix:\\n {0}\".format(confusion_matrix(new_sample['DEFAULT'], predict_lr2)))\n",
    "\n",
    "#Precision Metric\n",
    "print(\"Precision Metric: {:.5f}\".format(precision_score(new_sample['DEFAULT'], predict_lr2, average=None)[0]))\n",
    "\n",
    "#Recall Metric\n",
    "print(\"Recall Metric: {:.5f}\".format(recall_score(new_sample['DEFAULT'], predict_lr2, average=None)[0]))\n",
    "\n",
    "#F-Measure Metric\n",
    "print(\"F-Measure Metric: {:.5f}\".format(f1_score(new_sample['DEFAULT'], predict_lr2, average=None)[0]))\n",
    "\n",
    "#Accuracy Metric\n",
    "print(\"Accuracy Metric: {:.5f}\".format(accuracy_score(new_sample['DEFAULT'], predict_lr2)))"
   ]
  },
  {
   "cell_type": "code",
   "execution_count": 467,
   "metadata": {},
   "outputs": [
    {
     "output_type": "stream",
     "name": "stdout",
     "text": [
      "Logistic Regression Model 1 Metrics with k=1 Feature Selection:\nConfusion Matrix:\n [[17879   754]\n [ 3633  1734]]\nPrecision Metric: 0.83112\nRecall Metric: 0.95953\nF-Measure Metric: 0.89072\nAccuracy Metric: 0.81721\n"
     ]
    }
   ],
   "source": [
    "#Task 3 - Logistic Regression Model 1 with k=1 PAY_1 and PAY_AMT1\n",
    "\n",
    "cat_features = ['PAY1_IS_NOTHING_DUE', 'PAY1_IS_PAID_DULY', 'PAY1_IS_MIN_PAYMENT', 'PAY1_IS_LATE1', 'PAY1_IS_LATE2', 'PAY1_IS_LATE3', 'PAY1_IS_LATE4', 'PAY1_IS_LATE5', 'PAY1_IS_LATE6', 'PAY1_IS_LATE7', 'PAY1_IS_LATE8']\n",
    "partial = pd.concat([encoded[cat_features], normalized['PAY_AMT1'], data['DEFAULT']], axis=1)\n",
    "\n",
    "LR1 = LogisticRegression()\n",
    "predict_lr1 = cross_val_predict(LR1, partial.drop('DEFAULT', axis=1), partial['DEFAULT'], cv=5)\n",
    "\n",
    "print(\"Logistic Regression Model 1 Metrics with k=1 Feature Selection:\")\n",
    "#Confusion Matrix\n",
    "print(\"Confusion Matrix:\\n {0}\".format(confusion_matrix(partial['DEFAULT'], predict_lr1)))\n",
    "\n",
    "#Precision Metric\n",
    "print(\"Precision Metric: {:.5f}\".format(precision_score(partial['DEFAULT'], predict_lr1, average=None)[0]))\n",
    "\n",
    "#Recall Metric\n",
    "print(\"Recall Metric: {:.5f}\".format(recall_score(partial['DEFAULT'], predict_lr1, average=None)[0]))\n",
    "\n",
    "#F-Measure Metric\n",
    "print(\"F-Measure Metric: {:.5f}\".format(f1_score(partial['DEFAULT'], predict_lr1, average=None)[0]))\n",
    "\n",
    "#Accuracy Metric\n",
    "print(\"Accuracy Metric: {:.5f}\".format(accuracy_score(partial['DEFAULT'], predict_lr1)))"
   ]
  },
  {
   "cell_type": "code",
   "execution_count": 468,
   "metadata": {},
   "outputs": [
    {
     "output_type": "stream",
     "name": "stdout",
     "text": [
      "Logistic Regression Model 2 Metrics with k=1 Feature Selection:\nConfusion Matrix:\n [[18257   376]\n [ 4504   863]]\nPrecision Metric: 0.80212\nRecall Metric: 0.97982\nF-Measure Metric: 0.88211\nAccuracy Metric: 0.79667\n"
     ]
    }
   ],
   "source": [
    "#Task 3 - Logistic Regression Model 2 with k=1 PAY_1 and PAY_AMT1\n",
    "\n",
    "cat_features = ['PAY1_IS_NOTHING_DUE', 'PAY1_IS_PAID_DULY', 'PAY1_IS_MIN_PAYMENT', 'PAY1_IS_LATE1', 'PAY1_IS_LATE2', 'PAY1_IS_LATE3', 'PAY1_IS_LATE4', 'PAY1_IS_LATE5', 'PAY1_IS_LATE6', 'PAY1_IS_LATE7', 'PAY1_IS_LATE8']\n",
    "partial = pd.concat([encoded[cat_features], numericals['PAY_AMT1'], data['DEFAULT']], axis=1)\n",
    "\n",
    "LR2 = LogisticRegression()\n",
    "predict_lr2 = cross_val_predict(LR2, partial.drop('DEFAULT', axis=1), partial['DEFAULT'], cv=5)\n",
    "\n",
    "print(\"Logistic Regression Model 2 Metrics with k=1 Feature Selection:\")\n",
    "#Confusion Matrix\n",
    "print(\"Confusion Matrix:\\n {0}\".format(confusion_matrix(partial['DEFAULT'], predict_lr2)))\n",
    "\n",
    "#Precision Metric\n",
    "print(\"Precision Metric: {:.5f}\".format(precision_score(partial['DEFAULT'], predict_lr2, average=None)[0]))\n",
    "\n",
    "#Recall Metric\n",
    "print(\"Recall Metric: {:.5f}\".format(recall_score(partial['DEFAULT'], predict_lr2, average=None)[0]))\n",
    "\n",
    "#F-Measure Metric\n",
    "print(\"F-Measure Metric: {:.5f}\".format(f1_score(partial['DEFAULT'], predict_lr2, average=None)[0]))\n",
    "\n",
    "#Accuracy Metric\n",
    "print(\"Accuracy Metric: {:.5f}\".format(accuracy_score(partial['DEFAULT'], predict_lr2)))"
   ]
  },
  {
   "cell_type": "code",
   "execution_count": 469,
   "metadata": {},
   "outputs": [
    {
     "output_type": "stream",
     "name": "stdout",
     "text": [
      "Logistic Regression Model 1 Metrics with k=3 Feature Selection:\nConfusion Matrix:\n [[17683   950]\n [ 3421  1946]]\nPrecision Metric: 0.83790\nRecall Metric: 0.94902\nF-Measure Metric: 0.89000\nAccuracy Metric: 0.81788\n"
     ]
    }
   ],
   "source": [
    "#Task 3 - Logistic Regression Model 1 with k=3 PAY_1, PAY_2, PAY_3 and PAY_AMT1, PAY_AMT2, PAY_AMT4\n",
    "\n",
    "cat_features = ['PAY1_IS_NOTHING_DUE', 'PAY1_IS_PAID_DULY', 'PAY1_IS_MIN_PAYMENT', 'PAY1_IS_LATE1', 'PAY1_IS_LATE2', 'PAY1_IS_LATE3', 'PAY1_IS_LATE4', 'PAY1_IS_LATE5', 'PAY1_IS_LATE6', 'PAY1_IS_LATE7', 'PAY1_IS_LATE8', 'PAY2_IS_NOTHING_DUE', 'PAY2_IS_PAID_DULY', 'PAY2_IS_MIN_PAYMENT', 'PAY2_IS_LATE1', 'PAY2_IS_LATE2', 'PAY2_IS_LATE3', 'PAY2_IS_LATE4', 'PAY2_IS_LATE5', 'PAY2_IS_LATE6', 'PAY2_IS_LATE7', 'PAY2_IS_LATE8', 'PAY3_IS_NOTHING_DUE', 'PAY3_IS_PAID_DULY', 'PAY3_IS_MIN_PAYMENT', 'PAY3_IS_LATE1', 'PAY3_IS_LATE2', 'PAY3_IS_LATE3', 'PAY3_IS_LATE4', 'PAY3_IS_LATE5', 'PAY3_IS_LATE6', 'PAY3_IS_LATE7', 'PAY3_IS_LATE8']\n",
    "num_features = ['PAY_AMT1', 'PAY_AMT2', 'PAY_AMT4']\n",
    "partial = pd.concat([encoded[cat_features], normalized[num_features], data['DEFAULT']], axis=1)\n",
    "\n",
    "LR1 = LogisticRegression()\n",
    "predict_lr1 = cross_val_predict(LR1, partial.drop('DEFAULT', axis=1), partial['DEFAULT'], cv=5)\n",
    "\n",
    "print(\"Logistic Regression Model 1 Metrics with k=3 Feature Selection:\")\n",
    "#Confusion Matrix\n",
    "print(\"Confusion Matrix:\\n {0}\".format(confusion_matrix(partial['DEFAULT'], predict_lr1)))\n",
    "\n",
    "#Precision Metric\n",
    "print(\"Precision Metric: {:.5f}\".format(precision_score(partial['DEFAULT'], predict_lr1, average=None)[0]))\n",
    "\n",
    "#Recall Metric\n",
    "print(\"Recall Metric: {:.5f}\".format(recall_score(partial['DEFAULT'], predict_lr1, average=None)[0]))\n",
    "\n",
    "#F-Measure Metric\n",
    "print(\"F-Measure Metric: {:.5f}\".format(f1_score(partial['DEFAULT'], predict_lr1, average=None)[0]))\n",
    "\n",
    "#Accuracy Metric\n",
    "print(\"Accuracy Metric: {:.5f}\".format(accuracy_score(partial['DEFAULT'], predict_lr1)))"
   ]
  },
  {
   "cell_type": "code",
   "execution_count": 470,
   "metadata": {},
   "outputs": [
    {
     "output_type": "stream",
     "name": "stdout",
     "text": [
      "Logistic Regression Model 2 Metrics with k=3 Feature Selection:\nConfusion Matrix:\n [[18458   175]\n [ 5064   303]]\nPrecision Metric: 0.78471\nRecall Metric: 0.99061\nF-Measure Metric: 0.87572\nAccuracy Metric: 0.78171\n"
     ]
    }
   ],
   "source": [
    "#Task 3 - Logistic Regression Model 2 with k=3 PAY_1, PAY_2, PAY_3 and PAY_AMT1, PAY_AMT2, PAY_AMT4\n",
    "\n",
    "cat_features = ['PAY1_IS_NOTHING_DUE', 'PAY1_IS_PAID_DULY', 'PAY1_IS_MIN_PAYMENT', 'PAY1_IS_LATE1', 'PAY1_IS_LATE2', 'PAY1_IS_LATE3', 'PAY1_IS_LATE4', 'PAY1_IS_LATE5', 'PAY1_IS_LATE6', 'PAY1_IS_LATE7', 'PAY1_IS_LATE8', 'PAY2_IS_NOTHING_DUE', 'PAY2_IS_PAID_DULY', 'PAY2_IS_MIN_PAYMENT', 'PAY2_IS_LATE1', 'PAY2_IS_LATE2', 'PAY2_IS_LATE3', 'PAY2_IS_LATE4', 'PAY2_IS_LATE5', 'PAY2_IS_LATE6', 'PAY2_IS_LATE7', 'PAY2_IS_LATE8', 'PAY3_IS_NOTHING_DUE', 'PAY3_IS_PAID_DULY', 'PAY3_IS_MIN_PAYMENT', 'PAY3_IS_LATE1', 'PAY3_IS_LATE2', 'PAY3_IS_LATE3', 'PAY3_IS_LATE4', 'PAY3_IS_LATE5', 'PAY3_IS_LATE6', 'PAY3_IS_LATE7', 'PAY3_IS_LATE8']\n",
    "num_features = ['PAY_AMT1', 'PAY_AMT2', 'PAY_AMT4']\n",
    "partial = pd.concat([encoded[cat_features], numericals[num_features], data['DEFAULT']], axis=1)\n",
    "\n",
    "LR2 = LogisticRegression()\n",
    "predict_lr2 = cross_val_predict(LR2, partial.drop('DEFAULT', axis=1), partial['DEFAULT'], cv=5)\n",
    "\n",
    "print(\"Logistic Regression Model 2 Metrics with k=3 Feature Selection:\")\n",
    "#Confusion Matrix\n",
    "print(\"Confusion Matrix:\\n {0}\".format(confusion_matrix(partial['DEFAULT'], predict_lr2)))\n",
    "\n",
    "#Precision Metric\n",
    "print(\"Precision Metric: {:.5f}\".format(precision_score(partial['DEFAULT'], predict_lr2, average=None)[0]))\n",
    "\n",
    "#Recall Metric\n",
    "print(\"Recall Metric: {:.5f}\".format(recall_score(partial['DEFAULT'], predict_lr2, average=None)[0]))\n",
    "\n",
    "#F-Measure Metric\n",
    "print(\"F-Measure Metric: {:.5f}\".format(f1_score(partial['DEFAULT'], predict_lr2, average=None)[0]))\n",
    "\n",
    "#Accuracy Metric\n",
    "print(\"Accuracy Metric: {:.5f}\".format(accuracy_score(partial['DEFAULT'], predict_lr2)))"
   ]
  },
  {
   "cell_type": "code",
   "execution_count": 471,
   "metadata": {},
   "outputs": [
    {
     "output_type": "stream",
     "name": "stdout",
     "text": [
      "Logistic Regression Model 1 Metrics with k=5 Feature Selection:\nConfusion Matrix:\n [[17749   884]\n [ 3452  1915]]\nPrecision Metric: 0.83718\nRecall Metric: 0.95256\nF-Measure Metric: 0.89115\nAccuracy Metric: 0.81933\n"
     ]
    }
   ],
   "source": [
    "#Task 3 - Logistic Regression Model 1 with k=5 PAY_1, PAY_2, PAY_3, PAY_4, PAY_5 and PAY_AMT1, PAY_AMT2, PAY_AMT4, PAY_AMT3, PAY_AMT5\n",
    "\n",
    "cat_features = ['PAY1_IS_NOTHING_DUE', 'PAY1_IS_PAID_DULY', 'PAY1_IS_MIN_PAYMENT', 'PAY1_IS_LATE1', 'PAY1_IS_LATE2', 'PAY1_IS_LATE3', 'PAY1_IS_LATE4', 'PAY1_IS_LATE5', 'PAY1_IS_LATE6', 'PAY1_IS_LATE7', 'PAY1_IS_LATE8', 'PAY2_IS_NOTHING_DUE', 'PAY2_IS_PAID_DULY', 'PAY2_IS_MIN_PAYMENT', 'PAY2_IS_LATE1', 'PAY2_IS_LATE2', 'PAY2_IS_LATE3', 'PAY2_IS_LATE4', 'PAY2_IS_LATE5', 'PAY2_IS_LATE6', 'PAY2_IS_LATE7', 'PAY2_IS_LATE8', 'PAY3_IS_NOTHING_DUE', 'PAY3_IS_PAID_DULY', 'PAY3_IS_MIN_PAYMENT', 'PAY3_IS_LATE1', 'PAY3_IS_LATE2', 'PAY3_IS_LATE3', 'PAY3_IS_LATE4', 'PAY3_IS_LATE5', 'PAY3_IS_LATE6', 'PAY3_IS_LATE7', 'PAY3_IS_LATE8', 'PAY4_IS_NOTHING_DUE', 'PAY4_IS_PAID_DULY', 'PAY4_IS_MIN_PAYMENT', 'PAY4_IS_LATE1', 'PAY4_IS_LATE2', 'PAY4_IS_LATE3', 'PAY4_IS_LATE4', 'PAY4_IS_LATE5', 'PAY4_IS_LATE6', 'PAY4_IS_LATE7', 'PAY4_IS_LATE8', 'PAY5_IS_NOTHING_DUE', 'PAY5_IS_PAID_DULY', 'PAY5_IS_MIN_PAYMENT', 'PAY5_IS_LATE2', 'PAY5_IS_LATE3', 'PAY5_IS_LATE4', 'PAY5_IS_LATE5', 'PAY5_IS_LATE6', 'PAY5_IS_LATE7', 'PAY5_IS_LATE8']\n",
    "num_features = ['PAY_AMT1', 'PAY_AMT2', 'PAY_AMT4', 'PAY_AMT3', 'PAY_AMT5']\n",
    "partial = pd.concat([encoded[cat_features], normalized[num_features], data['DEFAULT']], axis=1)\n",
    "\n",
    "LR1 = LogisticRegression()\n",
    "predict_lr1 = cross_val_predict(LR1, partial.drop('DEFAULT', axis=1), partial['DEFAULT'], cv=5)\n",
    "\n",
    "print(\"Logistic Regression Model 1 Metrics with k=5 Feature Selection:\")\n",
    "#Confusion Matrix\n",
    "print(\"Confusion Matrix:\\n {0}\".format(confusion_matrix(partial['DEFAULT'], predict_lr1)))\n",
    "\n",
    "#Precision Metric\n",
    "print(\"Precision Metric: {:.5f}\".format(precision_score(partial['DEFAULT'], predict_lr1, average=None)[0]))\n",
    "\n",
    "#Recall Metric\n",
    "print(\"Recall Metric: {:.5f}\".format(recall_score(partial['DEFAULT'], predict_lr1, average=None)[0]))\n",
    "\n",
    "#F-Measure Metric\n",
    "print(\"F-Measure Metric: {:.5f}\".format(f1_score(partial['DEFAULT'], predict_lr1, average=None)[0]))\n",
    "\n",
    "#Accuracy Metric\n",
    "print(\"Accuracy Metric: {:.5f}\".format(accuracy_score(partial['DEFAULT'], predict_lr1)))"
   ]
  },
  {
   "cell_type": "code",
   "execution_count": 472,
   "metadata": {},
   "outputs": [
    {
     "output_type": "stream",
     "name": "stdout",
     "text": [
      "Logistic Regression Model 2 Metrics with k=5 Feature Selection:\nConfusion Matrix:\n [[18623    10]\n [ 5340    27]]\nPrecision Metric: 0.77716\nRecall Metric: 0.99946\nF-Measure Metric: 0.87440\nAccuracy Metric: 0.77708\n"
     ]
    }
   ],
   "source": [
    "#Task 3 - Logistic Regression Model 2 with k=5 PAY_1, PAY_2, PAY_3, PAY_4, PAY_5 and PAY_AMT1, PAY_AMT2, PAY_AMT4, PAY_AMT3, PAY_AMT5\n",
    "\n",
    "cat_features = ['PAY1_IS_NOTHING_DUE', 'PAY1_IS_PAID_DULY', 'PAY1_IS_MIN_PAYMENT', 'PAY1_IS_LATE1', 'PAY1_IS_LATE2', 'PAY1_IS_LATE3', 'PAY1_IS_LATE4', 'PAY1_IS_LATE5', 'PAY1_IS_LATE6', 'PAY1_IS_LATE7', 'PAY1_IS_LATE8', 'PAY2_IS_NOTHING_DUE', 'PAY2_IS_PAID_DULY', 'PAY2_IS_MIN_PAYMENT', 'PAY2_IS_LATE1', 'PAY2_IS_LATE2', 'PAY2_IS_LATE3', 'PAY2_IS_LATE4', 'PAY2_IS_LATE5', 'PAY2_IS_LATE6', 'PAY2_IS_LATE7', 'PAY2_IS_LATE8', 'PAY3_IS_NOTHING_DUE', 'PAY3_IS_PAID_DULY', 'PAY3_IS_MIN_PAYMENT', 'PAY3_IS_LATE1', 'PAY3_IS_LATE2', 'PAY3_IS_LATE3', 'PAY3_IS_LATE4', 'PAY3_IS_LATE5', 'PAY3_IS_LATE6', 'PAY3_IS_LATE7', 'PAY3_IS_LATE8', 'PAY4_IS_NOTHING_DUE', 'PAY4_IS_PAID_DULY', 'PAY4_IS_MIN_PAYMENT', 'PAY4_IS_LATE1', 'PAY4_IS_LATE2', 'PAY4_IS_LATE3', 'PAY4_IS_LATE4', 'PAY4_IS_LATE5', 'PAY4_IS_LATE6', 'PAY4_IS_LATE7', 'PAY4_IS_LATE8', 'PAY5_IS_NOTHING_DUE', 'PAY5_IS_PAID_DULY', 'PAY5_IS_MIN_PAYMENT', 'PAY5_IS_LATE2', 'PAY5_IS_LATE3', 'PAY5_IS_LATE4', 'PAY5_IS_LATE5', 'PAY5_IS_LATE6', 'PAY5_IS_LATE7', 'PAY5_IS_LATE8']\n",
    "num_features = ['PAY_AMT1', 'PAY_AMT2', 'PAY_AMT4', 'PAY_AMT3', 'PAY_AMT5']\n",
    "partial = pd.concat([encoded[cat_features], numericals[num_features], data['DEFAULT']], axis=1)\n",
    "\n",
    "LR2 = LogisticRegression()\n",
    "predict_lr2 = cross_val_predict(LR2, partial.drop('DEFAULT', axis=1), partial['DEFAULT'], cv=5)\n",
    "\n",
    "print(\"Logistic Regression Model 2 Metrics with k=5 Feature Selection:\")\n",
    "#Confusion Matrix\n",
    "print(\"Confusion Matrix:\\n {0}\".format(confusion_matrix(partial['DEFAULT'], predict_lr2)))\n",
    "\n",
    "#Precision Metric\n",
    "print(\"Precision Metric: {:.5f}\".format(precision_score(partial['DEFAULT'], predict_lr2, average=None)[0]))\n",
    "\n",
    "#Recall Metric\n",
    "print(\"Recall Metric: {:.5f}\".format(recall_score(partial['DEFAULT'], predict_lr2, average=None)[0]))\n",
    "\n",
    "#F-Measure Metric\n",
    "print(\"F-Measure Metric: {:.5f}\".format(f1_score(partial['DEFAULT'], predict_lr2, average=None)[0]))\n",
    "\n",
    "#Accuracy Metric\n",
    "print(\"Accuracy Metric: {:.5f}\".format(accuracy_score(partial['DEFAULT'], predict_lr2)))"
   ]
  },
  {
   "cell_type": "code",
   "execution_count": 473,
   "metadata": {},
   "outputs": [
    {
     "output_type": "stream",
     "name": "stdout",
     "text": [
      "Decision Tree Classifier 1 Imbalanced Metrics:\nConfusion Matrix:\n [[15162  3471]\n [ 3130  2237]]\nPrecision Metric: 0.82889\nRecall Metric: 0.81372\nF-Measure Metric: 0.82123\nAccuracy Metric: 0.72496\n"
     ]
    }
   ],
   "source": [
    "#Task 4 - Decision Tree Classifier 1 imbalanced\n",
    "X1 = pd.concat([encoded, normalized], axis=1, sort=False)\n",
    "dt1 = DecisionTreeClassifier()\n",
    "predict_dt1 = cross_val_predict(dt1, X1, data['DEFAULT'], cv=5)\n",
    "\n",
    "print(\"Decision Tree Classifier 1 Imbalanced Metrics:\")\n",
    "#Confusion Matrix\n",
    "print(\"Confusion Matrix:\\n {0}\".format(confusion_matrix(data['DEFAULT'], predict_dt1)))\n",
    "\n",
    "#Precision Metric\n",
    "print(\"Precision Metric: {:.5f}\".format(precision_score(data['DEFAULT'], predict_dt1, average=None)[0]))\n",
    "\n",
    "#Recall Metric\n",
    "print(\"Recall Metric: {:.5f}\".format(recall_score(data['DEFAULT'], predict_dt1, average=None)[0]))\n",
    "\n",
    "#F-Measure Metric\n",
    "print(\"F-Measure Metric: {:.5f}\".format(f1_score(data['DEFAULT'], predict_dt1, average=None)[0]))\n",
    "\n",
    "#Accuracy Metric\n",
    "print(\"Accuracy Metric: {:.5f}\".format(accuracy_score(data['DEFAULT'], predict_dt1)))"
   ]
  },
  {
   "cell_type": "code",
   "execution_count": 474,
   "metadata": {},
   "outputs": [
    {
     "output_type": "stream",
     "name": "stdout",
     "text": [
      "Decision Tree Classifier 2 Imbalanced Metrics:\nConfusion Matrix:\n [[15159  3474]\n [ 3136  2231]]\nPrecision Metric: 0.82859\nRecall Metric: 0.81356\nF-Measure Metric: 0.82100\nAccuracy Metric: 0.72458\n"
     ]
    }
   ],
   "source": [
    "#Task 4 - Decision Tree Classifier 2 imbalanced\n",
    "X2 = pd.concat([encoded, numericals], axis=1, sort=False)\n",
    "dt2 = DecisionTreeClassifier()\n",
    "predict_dt2 = cross_val_predict(dt2, X2, data['DEFAULT'], cv=5)\n",
    "\n",
    "print(\"Decision Tree Classifier 2 Imbalanced Metrics:\")\n",
    "#Confusion Matrix\n",
    "print(\"Confusion Matrix:\\n {0}\".format(confusion_matrix(data['DEFAULT'], predict_dt2)))\n",
    "\n",
    "#Precision Metric\n",
    "print(\"Precision Metric: {:.5f}\".format(precision_score(data['DEFAULT'], predict_dt2, average=None)[0]))\n",
    "\n",
    "#Recall Metric\n",
    "print(\"Recall Metric: {:.5f}\".format(recall_score(data['DEFAULT'], predict_dt2, average=None)[0]))\n",
    "\n",
    "#F-Measure Metric\n",
    "print(\"F-Measure Metric: {:.5f}\".format(f1_score(data['DEFAULT'], predict_dt2, average=None)[0]))\n",
    "\n",
    "#Accuracy Metric\n",
    "print(\"Accuracy Metric: {:.5f}\".format(accuracy_score(data['DEFAULT'], predict_dt2)))"
   ]
  },
  {
   "cell_type": "code",
   "execution_count": 475,
   "metadata": {},
   "outputs": [
    {
     "output_type": "stream",
     "name": "stdout",
     "text": [
      "Decision Tree Classifier 1 Balanced Metrics:\nConfusion Matrix:\n [[3635 1732]\n [1910 3457]]\nPrecision Metric: 0.65555\nRecall Metric: 0.67729\nF-Measure Metric: 0.66624\nAccuracy Metric: 0.66070\n"
     ]
    }
   ],
   "source": [
    "#Task 4 - Decision Tree Classifier 1 balanced\n",
    "X1 = pd.concat([encoded, normalized, data['DEFAULT']], axis=1, sort=False)\n",
    "\n",
    "#split the data by class\n",
    "zero_class = X1[X1['DEFAULT'] == 0]\n",
    "one_class = X1[X1['DEFAULT'] == 1]\n",
    "\n",
    "#undersample majority class - 0\n",
    "zero_class_usamp = resample(zero_class, n_samples=len(one_class), random_state=789)\n",
    "\n",
    "#put undersampled zero class with original one class\n",
    "new_sample = pd.concat([one_class, zero_class_usamp])\n",
    "\n",
    "#use logistic regression on the new sample\n",
    "dt1 = DecisionTreeClassifier()\n",
    "predict_dt1 = cross_val_predict(dt1, new_sample.drop('DEFAULT', axis=1), new_sample['DEFAULT'], cv=5)\n",
    "\n",
    "print(\"Decision Tree Classifier 1 Balanced Metrics:\")\n",
    "#Confusion Matrix\n",
    "print(\"Confusion Matrix:\\n {0}\".format(confusion_matrix(new_sample['DEFAULT'], predict_dt1)))\n",
    "\n",
    "#Precision Metric\n",
    "print(\"Precision Metric: {:.5f}\".format(precision_score(new_sample['DEFAULT'], predict_dt1, average=None)[0]))\n",
    "\n",
    "#Recall Metric\n",
    "print(\"Recall Metric: {:.5f}\".format(recall_score(new_sample['DEFAULT'], predict_dt1, average=None)[0]))\n",
    "\n",
    "#F-Measure Metric\n",
    "print(\"F-Measure Metric: {:.5f}\".format(f1_score(new_sample['DEFAULT'], predict_dt1, average=None)[0]))\n",
    "\n",
    "#Accuracy Metric\n",
    "print(\"Accuracy Metric: {:.5f}\".format(accuracy_score(new_sample['DEFAULT'], predict_dt1)))"
   ]
  },
  {
   "cell_type": "code",
   "execution_count": 476,
   "metadata": {},
   "outputs": [
    {
     "output_type": "stream",
     "name": "stdout",
     "text": [
      "Decision Tree Classifier 2 Balanced Metrics:\nConfusion Matrix:\n [[3666 1701]\n [1936 3431]]\nPrecision Metric: 0.65441\nRecall Metric: 0.68306\nF-Measure Metric: 0.66843\nAccuracy Metric: 0.66117\n"
     ]
    }
   ],
   "source": [
    "#Task 4 - Decision Tree Classifier 1 balanced\n",
    "X2 = pd.concat([encoded, numericals, data['DEFAULT']], axis=1, sort=False)\n",
    "\n",
    "#split the data by class\n",
    "zero_class = X2[X2['DEFAULT'] == 0]\n",
    "one_class = X2[X2['DEFAULT'] == 1]\n",
    "\n",
    "#undersample majority class - 0\n",
    "zero_class_usamp = resample(zero_class, n_samples=len(one_class), random_state=789)\n",
    "\n",
    "#put undersampled zero class with original one class\n",
    "new_sample = pd.concat([one_class, zero_class_usamp])\n",
    "\n",
    "#use logistic regression on the new sample\n",
    "dt2 = DecisionTreeClassifier()\n",
    "predict_dt2 = cross_val_predict(dt2, new_sample.drop('DEFAULT', axis=1), new_sample['DEFAULT'], cv=5)\n",
    "\n",
    "print(\"Decision Tree Classifier 2 Balanced Metrics:\")\n",
    "#Confusion Matrix\n",
    "print(\"Confusion Matrix:\\n {0}\".format(confusion_matrix(new_sample['DEFAULT'], predict_dt2)))\n",
    "\n",
    "#Precision Metric\n",
    "print(\"Precision Metric: {:.5f}\".format(precision_score(new_sample['DEFAULT'], predict_dt2, average=None)[0]))\n",
    "\n",
    "#Recall Metric\n",
    "print(\"Recall Metric: {:.5f}\".format(recall_score(new_sample['DEFAULT'], predict_dt2, average=None)[0]))\n",
    "\n",
    "#F-Measure Metric\n",
    "print(\"F-Measure Metric: {:.5f}\".format(f1_score(new_sample['DEFAULT'], predict_dt2, average=None)[0]))\n",
    "\n",
    "#Accuracy Metric\n",
    "print(\"Accuracy Metric: {:.5f}\".format(accuracy_score(new_sample['DEFAULT'], predict_dt2)))"
   ]
  },
  {
   "cell_type": "code",
   "execution_count": 477,
   "metadata": {},
   "outputs": [
    {
     "output_type": "stream",
     "name": "stdout",
     "text": [
      "Support Vector Machine 1 Imbalanced Metrics:\nConfusion Matrix:\n [[17780   853]\n [ 3489  1878]]\nPrecision Metric: 0.83596\nRecall Metric: 0.95422\nF-Measure Metric: 0.89118\nAccuracy Metric: 0.81908\n"
     ]
    }
   ],
   "source": [
    "#Task 4 - SUpport Vector Machine 1 imbalanced\n",
    "X1 = pd.concat([encoded, normalized], axis=1, sort=False)\n",
    "svm1 = SVC()\n",
    "predict_svm1 = cross_val_predict(svm1, X1, data['DEFAULT'], cv=5)\n",
    "\n",
    "print(\"Support Vector Machine 1 Imbalanced Metrics:\")\n",
    "#Confusion Matrix\n",
    "print(\"Confusion Matrix:\\n {0}\".format(confusion_matrix(data['DEFAULT'], predict_svm1)))\n",
    "\n",
    "#Precision Metric\n",
    "print(\"Precision Metric: {:.5f}\".format(precision_score(data['DEFAULT'], predict_svm1, average=None)[0]))\n",
    "\n",
    "#Recall Metric\n",
    "print(\"Recall Metric: {:.5f}\".format(recall_score(data['DEFAULT'], predict_svm1, average=None)[0]))\n",
    "\n",
    "#F-Measure Metric\n",
    "print(\"F-Measure Metric: {:.5f}\".format(f1_score(data['DEFAULT'], predict_svm1, average=None)[0]))\n",
    "\n",
    "#Accuracy Metric\n",
    "print(\"Accuracy Metric: {:.5f}\".format(accuracy_score(data['DEFAULT'], predict_svm1)))"
   ]
  },
  {
   "cell_type": "code",
   "execution_count": 479,
   "metadata": {},
   "outputs": [
    {
     "output_type": "stream",
     "name": "stdout",
     "text": [
      "Support Vector Machine 2 Imbalanced Metrics:\nConfusion Matrix:\n [[18633     0]\n [ 5367     0]]\nPrecision Metric: 0.77638\nRecall Metric: 1.00000\nF-Measure Metric: 0.87411\nAccuracy Metric: 0.77638\n"
     ]
    }
   ],
   "source": [
    "#Task 4 - Support Vector Machine 2 imbalanced\n",
    "X2 = pd.concat([encoded, numericals], axis=1, sort=False)\n",
    "svm2 = SVC()\n",
    "predict_svm2 = cross_val_predict(svm2, X2, data['DEFAULT'], cv=5)\n",
    "\n",
    "print(\"Support Vector Machine 2 Imbalanced Metrics:\")\n",
    "#Confusion Matrix\n",
    "print(\"Confusion Matrix:\\n {0}\".format(confusion_matrix(data['DEFAULT'], predict_svm2)))\n",
    "\n",
    "#Precision Metric\n",
    "print(\"Precision Metric: {:.5f}\".format(precision_score(data['DEFAULT'], predict_svm2, average=None)[0]))\n",
    "\n",
    "#Recall Metric\n",
    "print(\"Recall Metric: {:.5f}\".format(recall_score(data['DEFAULT'], predict_svm2, average=None)[0]))\n",
    "\n",
    "#F-Measure Metric\n",
    "print(\"F-Measure Metric: {:.5f}\".format(f1_score(data['DEFAULT'], predict_svm2, average=None)[0]))\n",
    "\n",
    "#Accuracy Metric\n",
    "print(\"Accuracy Metric: {:.5f}\".format(accuracy_score(data['DEFAULT'], predict_svm2)))"
   ]
  },
  {
   "cell_type": "code",
   "execution_count": 439,
   "metadata": {},
   "outputs": [
    {
     "output_type": "stream",
     "name": "stdout",
     "text": [
      "Support Vector Machine 1 Balanced Metrics:\nConfusion Matrix:\n [[4474  893]\n [2278 3089]]\nPrecision Metric: 0.7757408337518835\nRecall Metric: 0.5755543133966834\nF-Measure Metric: 0.6608193389667344\nAccuracy Metric: 0.7045835662381219\n"
     ]
    }
   ],
   "source": [
    "#Task 4 - Support Vector Machine 1 balanced\n",
    "X1 = pd.concat([encoded, normalized, data['DEFAULT']], axis=1, sort=False)\n",
    "\n",
    "#split the data by class\n",
    "zero_class = X1[X1['DEFAULT'] == 0]\n",
    "one_class = X1[X1['DEFAULT'] == 1]\n",
    "\n",
    "#undersample majority class - 0\n",
    "zero_class_usamp = resample(zero_class, n_samples=len(one_class), random_state=789)\n",
    "\n",
    "#put undersampled zero class with original one class\n",
    "new_sample = pd.concat([one_class, zero_class_usamp])\n",
    "\n",
    "#use logistic regression on the new sample\n",
    "svm1 = SVC()\n",
    "predict_svm1 = cross_val_predict(svm1, new_sample.drop('DEFAULT', axis=1), new_sample['DEFAULT'], cv=5)\n",
    "\n",
    "print(\"Support Vector Machine 1 Balanced Metrics:\")\n",
    "#Confusion Matrix\n",
    "print(\"Confusion Matrix:\\n {0}\".format(confusion_matrix(new_sample['DEFAULT'], predict_svm1)))\n",
    "\n",
    "#Precision Metric\n",
    "print(\"Precision Metric: {:.5f}\".format(precision_score(new_sample['DEFAULT'], predict_svm1, average=None)[0]))\n",
    "\n",
    "#Recall Metric\n",
    "print(\"Recall Metric: {:.5f}\".format(recall_score(new_sample['DEFAULT'], predict_svm1, average=None)[0]))\n",
    "\n",
    "#F-Measure Metric\n",
    "print(\"F-Measure Metric: {:.5f}\".format(f1_score(new_sample['DEFAULT'], predict_svm1, average=None)[0]))\n",
    "\n",
    "#Accuracy Metric\n",
    "print(\"Accuracy Metric: {:.5f}\".format(accuracy_score(new_sample['DEFAULT'], predict_svm1)))"
   ]
  },
  {
   "cell_type": "code",
   "execution_count": 440,
   "metadata": {},
   "outputs": [
    {
     "output_type": "stream",
     "name": "stdout",
     "text": [
      "Support Vector Machine 2 Balanced Metrics:\nConfusion Matrix:\n [[2823 2544]\n [1669 3698]]\nPrecision Metric: 0.5924383210509452\nRecall Metric: 0.6890255263648221\nF-Measure Metric: 0.6370919114480144\nAccuracy Metric: 0.6075088503819639\n"
     ]
    }
   ],
   "source": [
    "#Task 4 - Support Vector Machine 2 balanced\n",
    "X2 = pd.concat([encoded, numericals, data['DEFAULT']], axis=1, sort=False)\n",
    "\n",
    "#split the data by class\n",
    "zero_class = X2[X2['DEFAULT'] == 0]\n",
    "one_class = X2[X2['DEFAULT'] == 1]\n",
    "\n",
    "#undersample majority class - 0\n",
    "zero_class_usamp = resample(zero_class, n_samples=len(one_class), random_state=789)\n",
    "\n",
    "#put undersampled zero class with original one class\n",
    "new_sample = pd.concat([one_class, zero_class_usamp])\n",
    "\n",
    "#use logistic regression on the new sample\n",
    "svm2 = SVC()\n",
    "predict_svm2 = cross_val_predict(svm2, new_sample.drop('DEFAULT', axis=1), new_sample['DEFAULT'], cv=5)\n",
    "\n",
    "print(\"Support Vector Machine 2 Balanced Metrics:\")\n",
    "#Confusion Matrix\n",
    "print(\"Confusion Matrix:\\n {0}\".format(confusion_matrix(new_sample['DEFAULT'], predict_svm2)))\n",
    "\n",
    "#Precision Metric\n",
    "print(\"Precision Metric: {:.5f}\".format(precision_score(new_sample['DEFAULT'], predict_svm2, average=None)[0]))\n",
    "\n",
    "#Recall Metric\n",
    "print(\"Recall Metric: {:.5f}\".format(recall_score(new_sample['DEFAULT'], predict_svm2, average=None)[0]))\n",
    "\n",
    "#F-Measure Metric\n",
    "print(\"F-Measure Metric: {:.5f}\".format(f1_score(new_sample['DEFAULT'], predict_svm2, average=None)[0]))\n",
    "\n",
    "#Accuracy Metric\n",
    "print(\"Accuracy Metric: {:.5f}\".format(accuracy_score(new_sample['DEFAULT'], predict_svm2)))"
   ]
  },
  {
   "cell_type": "code",
   "execution_count": 441,
   "metadata": {},
   "outputs": [
    {
     "output_type": "stream",
     "name": "stdout",
     "text": [
      "Multi-Layer Perceptron Classifier 1 Imbalanced Metrics:\nConfusion Matrix:\n [[17404  1229]\n [ 3406  1961]]\nPrecision Metric: 0.6147335423197492\nRecall Metric: 0.36538103223402274\nF-Measure Metric: 0.4583382026411125\nAccuracy Metric: 0.806875\n"
     ]
    }
   ],
   "source": [
    "#Task 4 - Multi-Layer Perceptron Neural Network 1 imbalanced\n",
    "X1 = pd.concat([encoded, normalized], axis=1, sort=False)\n",
    "MLP1 = MLPClassifier()\n",
    "predict_mlp1 = cross_val_predict(MLP1, X1, data['DEFAULT'], cv=5)\n",
    "\n",
    "print(\"Multi-Layer Perceptron Classifier 1 Imbalanced Metrics:\")\n",
    "#Confusion Matrix\n",
    "print(\"Confusion Matrix:\\n {0}\".format(confusion_matrix(data['DEFAULT'], predict_mlp1)))\n",
    "\n",
    "#Precision Metric\n",
    "print(\"Precision Metric: {:.5f}\".format(precision_score(data['DEFAULT'], predict_mpi1, average=None)[0]))\n",
    "\n",
    "#Recall Metric\n",
    "print(\"Recall Metric: {:.5f}\".format(recall_score(data['DEFAULT'], predict_mpi1, average=None)[0]))\n",
    "\n",
    "#F-Measure Metric\n",
    "print(\"F-Measure Metric: {:.5f}\".format(f1_score(data['DEFAULT'], predict_mpi1, average=None)[0]))\n",
    "\n",
    "#Accuracy Metric\n",
    "print(\"Accuracy Metric: {:.5f}\".format(accuracy_score(data['DEFAULT'], predict_mpi1)))"
   ]
  },
  {
   "cell_type": "code",
   "execution_count": 435,
   "metadata": {},
   "outputs": [
    {
     "output_type": "stream",
     "name": "stdout",
     "text": [
      "Multi-Layer Perceptron Classifier 2 Imbalanced Metrics:\nConfusion Matrix:\n [[15885  2748]\n [ 4045  1322]]\nPrecision Metric: 0.3248157248157248\nRecall Metric: 0.24632010434134527\nF-Measure Metric: 0.28017378404153864\nAccuracy Metric: 0.7169583333333334\n"
     ]
    }
   ],
   "source": [
    "#Task 4 - Multi-Layer Perceptron Neural Network 2 imbalanced\n",
    "X2 = pd.concat([encoded, numericals], axis=1, sort=False)\n",
    "MLP2 = MLPClassifier()\n",
    "predict_mlp2 = cross_val_predict(MLP2, X2, data['DEFAULT'], cv=5)\n",
    "\n",
    "print(\"Multi-Layer Perceptron Classifier 2 Imbalanced Metrics:\")\n",
    "#Confusion Matrix\n",
    "print(\"Confusion Matrix:\\n {0}\".format(confusion_matrix(data['DEFAULT'], predict_mlp2)))\n",
    "\n",
    "#Precision Metric\n",
    "print(\"Precision Metric: {:.5f}\".format(precision_score(data['DEFAULT'], predict_mpi2, average=None)[0]))\n",
    "\n",
    "#Recall Metric\n",
    "print(\"Recall Metric: {:.5f}\".format(recall_score(data['DEFAULT'], predict_mpi2, average=None)[0]))\n",
    "\n",
    "#F-Measure Metric\n",
    "print(\"F-Measure Metric: {:.5f}\".format(f1_score(data['DEFAULT'], predict_mpi2, average=None)[0]))\n",
    "\n",
    "#Accuracy Metric\n",
    "print(\"Accuracy Metric: {:.5f}\".format(accuracy_score(data['DEFAULT'], predict_mpi2)))"
   ]
  },
  {
   "cell_type": "code",
   "execution_count": 436,
   "metadata": {},
   "outputs": [
    {
     "output_type": "stream",
     "name": "stdout",
     "text": [
      "Multi-Layer Perceptron Classifier 1 Balanced Metrics:\nConfusion Matrix:\n [[3856 1511]\n [1850 3517]]\nPrecision Metric: 0.6994828957836118\nRecall Metric: 0.655300912986771\nF-Measure Metric: 0.6766714766714766\nAccuracy Metric: 0.6868828023104155\n"
     ]
    }
   ],
   "source": [
    "#Task 4 - Multi-Layer Perceptron Neural Network 1 balanced\n",
    "X1 = pd.concat([encoded, normalized, data['DEFAULT']], axis=1, sort=False)\n",
    "\n",
    "#split the data by class\n",
    "zero_class = X1[X1['DEFAULT'] == 0]\n",
    "one_class = X1[X1['DEFAULT'] == 1]\n",
    "\n",
    "#undersample majority class - 0\n",
    "zero_class_usamp = resample(zero_class, n_samples=len(one_class), random_state=789)\n",
    "\n",
    "#put undersampled zero class with original one class\n",
    "new_sample = pd.concat([one_class, zero_class_usamp])\n",
    "\n",
    "#use logistic regression on the new sample\n",
    "MLP1 = MLPClassifier()\n",
    "predict_mlp1 = cross_val_predict(MLP1, new_sample.drop('DEFAULT', axis=1), new_sample['DEFAULT'], cv=5)\n",
    "\n",
    "print(\"Multi-Layer Perceptron Classifier 1 Balanced Metrics:\")\n",
    "#Confusion Matrix\n",
    "print(\"Confusion Matrix:\\n {0}\".format(confusion_matrix(new_sample['DEFAULT'], predict_mlp1)))\n",
    "\n",
    "#Precision Metric\n",
    "print(\"Precision Metric: {:.5f}\".format(precision_score(new_sample['DEFAULT'], predict_mpi1, average=None)[0]))\n",
    "\n",
    "#Recall Metric\n",
    "print(\"Recall Metric: {:.5f}\".format(recall_score(new_sample['DEFAULT'], predict_mpi1, average=None)[0]))\n",
    "\n",
    "#F-Measure Metric\n",
    "print(\"F-Measure Metric: {:.5f}\".format(f1_score(new_sample['DEFAULT'], predict_mpi1, average=None)[0]))\n",
    "\n",
    "#Accuracy Metric\n",
    "print(\"Accuracy Metric: {:.5f}\".format(accuracy_score(new_sample['DEFAULT'], predict_mpi1)))"
   ]
  },
  {
   "cell_type": "code",
   "execution_count": 442,
   "metadata": {},
   "outputs": [
    {
     "output_type": "stream",
     "name": "stdout",
     "text": [
      "Multi-Layer Perceptron Classifier 2 Balanced Metrics:\nConfusion Matrix:\n [[3428 1939]\n [2632 2735]]\nPrecision Metric: 0.5851519041506205\nRecall Metric: 0.5095956772871251\nF-Measure Metric: 0.5447664575241511\nAccuracy Metric: 0.5741568846655487\n"
     ]
    }
   ],
   "source": [
    "#Task 4 - Multi-Layer Perceptron Neural Network 2 balanced\n",
    "X2 = pd.concat([encoded, numericals, data['DEFAULT']], axis=1, sort=False)\n",
    "\n",
    "#split the data by class\n",
    "zero_class = X2[X2['DEFAULT'] == 0]\n",
    "one_class = X2[X2['DEFAULT'] == 1]\n",
    "\n",
    "#undersample majority class - 0\n",
    "zero_class_usamp = resample(zero_class, n_samples=len(one_class), random_state=789)\n",
    "\n",
    "#put undersampled zero class with original one class\n",
    "new_sample = pd.concat([one_class, zero_class_usamp])\n",
    "\n",
    "#use logistic regression on the new sample\n",
    "MLP2 = MLPClassifier()\n",
    "predict_mlp2 = cross_val_predict(MLP2, new_sample.drop('DEFAULT', axis=1), new_sample['DEFAULT'], cv=5)\n",
    "\n",
    "print(\"Multi-Layer Perceptron Classifier 2 Balanced Metrics:\")\n",
    "#Confusion Matrix\n",
    "print(\"Confusion Matrix:\\n {0}\".format(confusion_matrix(new_sample['DEFAULT'], predict_mlp2)))\n",
    "\n",
    "#Precision Metric\n",
    "print(\"Precision Metric: {:.5f}\".format(precision_score(new_sample['DEFAULT'], predict_mpi2, average=None)[0]))\n",
    "\n",
    "#Recall Metric\n",
    "print(\"Recall Metric: {:.5f}\".format(recall_score(new_sample['DEFAULT'], predict_mpi2, average=None)[0]))\n",
    "\n",
    "#F-Measure Metric\n",
    "print(\"F-Measure Metric: {:.5f}\".format(f1_score(new_sample['DEFAULT'], predict_mpi2, average=None)[0]))\n",
    "\n",
    "#Accuracy Metric\n",
    "print(\"Accuracy Metric: {:.5f}\".format(accuracy_score(new_sample['DEFAULT'], predict_mpi2)))"
   ]
  },
  {
   "cell_type": "code",
   "execution_count": null,
   "metadata": {},
   "outputs": [],
   "source": []
  }
 ]
}